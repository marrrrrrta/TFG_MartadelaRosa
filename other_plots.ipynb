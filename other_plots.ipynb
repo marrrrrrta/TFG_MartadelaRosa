{
 "cells": [
  {
   "cell_type": "markdown",
   "id": "6cdac9ce",
   "metadata": {},
   "source": [
    "# 1. The frequency factor"
   ]
  },
  {
   "cell_type": "code",
   "execution_count": 1,
   "id": "c5cd6d8a",
   "metadata": {},
   "outputs": [],
   "source": [
    "import numpy as np\n",
    "import pandas as pd"
   ]
  },
  {
   "cell_type": "markdown",
   "id": "9e841112",
   "metadata": {},
   "source": [
    "## 1.1 Determining the value of K\n",
    "\n",
    "From McKeever's equation for the frequency factor:\n",
    "$$ S = \\nu_{ph} ~ K ~ e^{\\frac{\\Delta S}{k_B}} $$\n",
    "\n",
    "For the known values from `ParametrosCineticos.xlsx` of $s$, and taking the value of $\\nu_{ph}$ of the LiF, solving for $K$ yields:\n",
    "\n",
    "$$ K = \\frac{s}{\\nu_{ph} ~ e^{\\left(\\Delta S /k_B \\right) }}$$"
   ]
  },
  {
   "cell_type": "code",
   "execution_count": 13,
   "id": "b9b49bee",
   "metadata": {},
   "outputs": [
    {
     "name": "stdout",
     "output_type": "stream",
     "text": [
      "Value of K for trap I: 8.27e+00 s-1\n",
      "Value of K for trap II: 1.17e+00 s-1\n",
      "Value of K for trap III: 7.48e+01 s-1\n",
      "Value of K for trap IV: 4.78e+01 s-1\n",
      "Value of K for trap V: 7.20e+03 s-1\n",
      "Value of K for trap s: 8.27e+00 s-1\n",
      "Value of K for trap R: 8.27e+01 s-1\n",
      "Value of K for trap NR: 8.27e+01 s-1\n",
      "Value of K: 9.39e+02 s-1\n"
     ]
    }
   ],
   "source": [
    "# Constants\n",
    "kB = 8.617e-5                # (eV/K)\n",
    "nu_m = 90000                 # from the Bransden book (m-1)\n",
    "nu_s = 2.9979e8 * nu_m       # (s-1)\n",
    "delta_S = 1.5 * kB           # (eV/K)\n",
    "\n",
    "PathCinetics = 'Simulations/ParametrosCineticos.xlsx'\n",
    "CineticsData = pd.read_excel(PathCinetics, sheet_name='Hoja1', header=0, usecols=None, nrows=None)\n",
    "\n",
    "S = [CineticsData.iloc[i, 1] for i in range(6)]                            # Frequency factor for trap i (s-1)\n",
    "S_R_h, S_NR_h = CineticsData.iloc[0, 3], CineticsData.iloc[0, 5]           # Frequency factor for radiative/ non radiative recombination centers (s-1)\n",
    "S_all = S + [S_R_h, S_NR_h]  # Flatten S_all into a single list of scalar values\n",
    "\n",
    "# Mean frequency factor\n",
    "S_mean = np.mean(S_all)\n",
    "K_mean = S_mean / (nu_s * np.exp(delta_S / kB))\n",
    "\n",
    "# Value of K\n",
    "K = np.zeros(len(S_all))\n",
    "names = ['I', 'II', 'III', 'IV', 'V', 's', 'R', 'NR']\n",
    "for i in range(len(S_all)):\n",
    "    K[i] = S_all[i] / (nu_s * np.exp(delta_S / kB))\n",
    "    print(f\"Value of K for trap {names[i]}: {K[i]:.2e} s-1\")\n",
    "\n",
    "print(f\"Value of K: {K_mean:.2e} s-1\")\n"
   ]
  }
 ],
 "metadata": {
  "kernelspec": {
   "display_name": "Python 3",
   "language": "python",
   "name": "python3"
  },
  "language_info": {
   "codemirror_mode": {
    "name": "ipython",
    "version": 3
   },
   "file_extension": ".py",
   "mimetype": "text/x-python",
   "name": "python",
   "nbconvert_exporter": "python",
   "pygments_lexer": "ipython3",
   "version": "3.12.9"
  }
 },
 "nbformat": 4,
 "nbformat_minor": 5
}
